{
  "cells": [
    {
      "cell_type": "markdown",
      "metadata": {
        "id": "aJ_pmgxvGur9"
      },
      "source": [
        "# Assignment 4b - Graph Convolutional Networks\n",
        "## Deep Learning Course - Vrije Universiteit Amsterdam, 2022"
      ]
    },
    {
      "cell_type": "markdown",
      "metadata": {
        "id": "mEneMITS2agU"
      },
      "source": [
        "#### Instructions on how to use this notebook:\n",
        "\n",
        "This notebook is hosted on Google Colab. To be able to work on it, you have to create your own copy. Go to *File* and select *Save a copy in Drive*.\n",
        "\n",
        "You can also avoid using Colab entirely, and download the notebook to run it on your own machine. If you choose this, go to *File* and select *Download .ipynb*.\n",
        "\n",
        "The advantage of using Colab is that you can use a GPU. You can complete this assignment with a CPU, but it will take a bit longer. Furthermore, we encourage you to train using the GPU not only for faster training, but also to get experience with this setting. This includes moving models and tensors to the GPU and back. This experience is very valuable because for many interesting models and large datasets (like large CNNs for ImageNet, or Transformer models trained on Wikipedia), training on GPU is the only feasible way.\n",
        "\n",
        "The default Colab runtime does not have a GPU. To change this, go to *Runtime - Change runtime type*, and select *GPU* as the hardware accelerator. The GPU that you get changes according to what resources are available at the time, and its memory can go from a 5GB, to around 18GB if you are lucky. If you are curious, you can run the following in a code cell to check:\n",
        "\n",
        "```sh\n",
        "!nvidia-smi\n",
        "```\n",
        "\n",
        "Note that despite the name, Google Colab does  not support collaborative work without issues. When two or more people edit the notebook concurrently, only one version will be saved. You can choose to do group programming with one person sharing the screen with the others, or make multiple copies of the notebook to work concurrently.\n",
        "\n",
        "**Submission:** Upload your notebook in .ipynb format to Canvas. The code and answers to the questions in the notebook are sufficient, no separate report is expected."
      ]
    },
    {
      "cell_type": "code",
      "execution_count": null,
      "metadata": {
        "colab": {
          "base_uri": "https://localhost:8080/"
        },
        "id": "lBgoJIpdLI2Y",
        "outputId": "4dc0b262-662b-453e-c6a6-f8bc8805433b"
      },
      "outputs": [
        {
          "output_type": "stream",
          "name": "stdout",
          "text": [
            "Wed Dec 13 22:00:49 2023       \n",
            "+-----------------------------------------------------------------------------+\n",
            "| NVIDIA-SMI 525.105.17   Driver Version: 525.105.17   CUDA Version: 12.0     |\n",
            "|-------------------------------+----------------------+----------------------+\n",
            "| GPU  Name        Persistence-M| Bus-Id        Disp.A | Volatile Uncorr. ECC |\n",
            "| Fan  Temp  Perf  Pwr:Usage/Cap|         Memory-Usage | GPU-Util  Compute M. |\n",
            "|                               |                      |               MIG M. |\n",
            "|===============================+======================+======================|\n",
            "|   0  Tesla T4            Off  | 00000000:00:04.0 Off |                    0 |\n",
            "| N/A   39C    P8     9W /  70W |      0MiB / 15360MiB |      0%      Default |\n",
            "|                               |                      |                  N/A |\n",
            "+-------------------------------+----------------------+----------------------+\n",
            "                                                                               \n",
            "+-----------------------------------------------------------------------------+\n",
            "| Processes:                                                                  |\n",
            "|  GPU   GI   CI        PID   Type   Process name                  GPU Memory |\n",
            "|        ID   ID                                                   Usage      |\n",
            "|=============================================================================|\n",
            "|  No running processes found                                                 |\n",
            "+-----------------------------------------------------------------------------+\n"
          ]
        }
      ],
      "source": [
        "!nvidia-smi"
      ]
    },
    {
      "cell_type": "markdown",
      "metadata": {
        "id": "tsdc7fDp40rQ"
      },
      "source": [
        "### Introduction\n",
        "\n",
        "Graphs are very useful data structures that allow us to represent sets of entities and the way they are related among each other. In a graph, entities are also known as *nodes*, and any link between entities is also called an *edge*.\n",
        "\n",
        "Examples of real world objects that can be modeled as graphs are social networks, where entities are people and relations denote friendship; and molecules, where entities are atoms and relations indicate a bond between them.\n",
        "\n",
        "There has been increased interest in the recent years in the application of deep learning architectures to graph-structured data, for tasks like predicting missing relations between entities, classifying entities, and classifying graphs. This interest has been spurred by the introduction of Graph Convolutional Networks (GCNs).\n",
        "\n",
        "In this assignment, you will implement and experiment with one of the first versions of the GCN, proposed by Thomas Kipf and Max Welling in their 2017 paper, [Semi-supervised Classification with Graph Convolutional Networks](https://arxiv.org/abs/1609.02907). In particular, the goals of this assignment are to\n",
        "\n",
        "- Understand how GCNs are formulated\n",
        "- Implement the GCN using PyTorch\n",
        "- Train and evaluate a model for semi-supervised node classification in citation networks\n",
        "- Train and evaluate a model for binary classification of molecules"
      ]
    },
    {
      "cell_type": "markdown",
      "metadata": {
        "id": "RvsuVNczG6pP"
      },
      "source": [
        "### Representing graphs\n",
        "\n",
        "Suppose we have the following graph:\n",
        "\n",
        "<img src=\"https://raw.githubusercontent.com/dfdazac/dlvu-a5/main/img/01-graph.png\" width=\"200\">\n",
        "\n",
        "This is an undirected graph (since the edges have no specified direction) with 4 nodes. One way to represent the connectivity structure of the graph is by means of the **adjacency matrix**. The $i$-th row of the matrix contains a 1 in the $j$-th column, if nodes $i$ and $j$ are connected. For an undirected graph like the one above, this means that the adjacency matrix\n",
        "\n",
        "- Is symmetric (e.g. an edge between 0 and 2 is equivalent as an edge between 2 and 0)\n",
        "- Is square, of size $n\\times n$ where $n$ is the number of nodes\n",
        "\n",
        "The adjacency matrix for the graph above is then the following:\n",
        "\n",
        "$$\n",
        "A =\n",
        "\\begin{bmatrix}\n",
        "0 & 0 & 1 & 0 \\\\\n",
        "0 & 0 & 1 & 0 \\\\\n",
        "1 & 1 & 0 & 1 \\\\\n",
        "0 & 0 & 1 & 0\n",
        "\\end{bmatrix}\n",
        "$$\n",
        "\n",
        "A second matrix of interest is the **degree matrix**. This is a diagonal matrix where the $i$-th element of the diagonal indicates the number of edges connected to node $i$. Note that these can be obtained from $A$ by summing across the columns, or the rows. For our example, the degree matrix is\n",
        "\n",
        "$$\n",
        "D = \\begin{bmatrix}\n",
        "1 & 0 & 0 & 0 \\\\\n",
        "0 & 1 & 0 & 0 \\\\\n",
        "0 & 0 & 3 & 0 \\\\\n",
        "0 & 0 & 0 & 1\n",
        "\\end{bmatrix}\n",
        "$$\n",
        "\n",
        "For specific applications, each node in the graph will have an associated vector of features $x\\in\\mathbb{R}^c$. If our graph is a social network, then the vector of features can contain information like age, location, and musical tastes, in a specific numeric format. In the case of a molecule, the node could represent an atom and have features like the atomic mass, etc. We can lay out the features in a matrix $X\\in\\mathbb{R}^{n\\times c}$, so that the feature vector for node $i$ is in the $i$-th row."
      ]
    },
    {
      "cell_type": "markdown",
      "metadata": {
        "id": "zCEQ2ffzHCf2"
      },
      "source": [
        "### Loading a citation network\n",
        "\n",
        "To move to a real world example, we will start with the Cora dataset. This dataset represents a citation network, where nodes are scientific publications, edges denote citations between them, and features are a [bag-of-words](https://en.wikipedia.org/wiki/Bag-of-words_model) extracted from their contents.\n",
        "\n",
        "This graph contains labels for nodes, that represent a specific topic. We will use these for a node classification task.\n",
        "\n",
        "To easily load it, we will use [PyTorch Geometric](https://pytorch-geometric.readthedocs.io/en/latest/index.html) (PyG), a deep learning library for graph-structured data."
      ]
    },
    {
      "cell_type": "code",
      "execution_count": 1,
      "metadata": {
        "id": "Yd2bTEBADt-a",
        "colab": {
          "base_uri": "https://localhost:8080/"
        },
        "outputId": "bb4637aa-d3ab-4538-fb0d-97447e6b2d02"
      },
      "outputs": [
        {
          "output_type": "stream",
          "name": "stdout",
          "text": [
            "Looking in links: https://pytorch-geometric.com/whl/torch-2.1.0+cu118.html\n",
            "Collecting torch-scatter\n",
            "  Downloading https://data.pyg.org/whl/torch-2.1.0%2Bcu118/torch_scatter-2.1.2%2Bpt21cu118-cp310-cp310-linux_x86_64.whl (10.2 MB)\n",
            "\u001b[2K     \u001b[90m━━━━━━━━━━━━━━━━━━━━━━━━━━━━━━━━━━━━━━━━\u001b[0m \u001b[32m10.2/10.2 MB\u001b[0m \u001b[31m69.9 MB/s\u001b[0m eta \u001b[36m0:00:00\u001b[0m\n",
            "\u001b[?25hInstalling collected packages: torch-scatter\n",
            "Successfully installed torch-scatter-2.1.2+pt21cu118\n",
            "Looking in links: https://pytorch-geometric.com/whl/torch-2.1.0+cu118.html\n",
            "Collecting torch-sparse\n",
            "  Downloading https://data.pyg.org/whl/torch-2.1.0%2Bcu118/torch_sparse-0.6.18%2Bpt21cu118-cp310-cp310-linux_x86_64.whl (4.9 MB)\n",
            "\u001b[2K     \u001b[90m━━━━━━━━━━━━━━━━━━━━━━━━━━━━━━━━━━━━━━━━\u001b[0m \u001b[32m4.9/4.9 MB\u001b[0m \u001b[31m36.7 MB/s\u001b[0m eta \u001b[36m0:00:00\u001b[0m\n",
            "\u001b[?25hRequirement already satisfied: scipy in /usr/local/lib/python3.10/dist-packages (from torch-sparse) (1.11.4)\n",
            "Requirement already satisfied: numpy<1.28.0,>=1.21.6 in /usr/local/lib/python3.10/dist-packages (from scipy->torch-sparse) (1.23.5)\n",
            "Installing collected packages: torch-sparse\n",
            "Successfully installed torch-sparse-0.6.18+pt21cu118\n",
            "Collecting torch-geometric\n",
            "  Downloading torch_geometric-2.4.0-py3-none-any.whl (1.0 MB)\n",
            "\u001b[2K     \u001b[90m━━━━━━━━━━━━━━━━━━━━━━━━━━━━━━━━━━━━━━━━\u001b[0m \u001b[32m1.0/1.0 MB\u001b[0m \u001b[31m7.9 MB/s\u001b[0m eta \u001b[36m0:00:00\u001b[0m\n",
            "\u001b[?25hRequirement already satisfied: tqdm in /usr/local/lib/python3.10/dist-packages (from torch-geometric) (4.66.1)\n",
            "Requirement already satisfied: numpy in /usr/local/lib/python3.10/dist-packages (from torch-geometric) (1.23.5)\n",
            "Requirement already satisfied: scipy in /usr/local/lib/python3.10/dist-packages (from torch-geometric) (1.11.4)\n",
            "Requirement already satisfied: jinja2 in /usr/local/lib/python3.10/dist-packages (from torch-geometric) (3.1.2)\n",
            "Requirement already satisfied: requests in /usr/local/lib/python3.10/dist-packages (from torch-geometric) (2.31.0)\n",
            "Requirement already satisfied: pyparsing in /usr/local/lib/python3.10/dist-packages (from torch-geometric) (3.1.1)\n",
            "Requirement already satisfied: scikit-learn in /usr/local/lib/python3.10/dist-packages (from torch-geometric) (1.2.2)\n",
            "Requirement already satisfied: psutil>=5.8.0 in /usr/local/lib/python3.10/dist-packages (from torch-geometric) (5.9.5)\n",
            "Requirement already satisfied: MarkupSafe>=2.0 in /usr/local/lib/python3.10/dist-packages (from jinja2->torch-geometric) (2.1.3)\n",
            "Requirement already satisfied: charset-normalizer<4,>=2 in /usr/local/lib/python3.10/dist-packages (from requests->torch-geometric) (3.3.2)\n",
            "Requirement already satisfied: idna<4,>=2.5 in /usr/local/lib/python3.10/dist-packages (from requests->torch-geometric) (3.6)\n",
            "Requirement already satisfied: urllib3<3,>=1.21.1 in /usr/local/lib/python3.10/dist-packages (from requests->torch-geometric) (2.0.7)\n",
            "Requirement already satisfied: certifi>=2017.4.17 in /usr/local/lib/python3.10/dist-packages (from requests->torch-geometric) (2023.11.17)\n",
            "Requirement already satisfied: joblib>=1.1.1 in /usr/local/lib/python3.10/dist-packages (from scikit-learn->torch-geometric) (1.3.2)\n",
            "Requirement already satisfied: threadpoolctl>=2.0.0 in /usr/local/lib/python3.10/dist-packages (from scikit-learn->torch-geometric) (3.2.0)\n",
            "Installing collected packages: torch-geometric\n",
            "Successfully installed torch-geometric-2.4.0\n"
          ]
        }
      ],
      "source": [
        "# Install PyTorch Geometric\n",
        "import torch\n",
        "try:\n",
        "    import torch_geometric\n",
        "except ModuleNotFoundError:\n",
        "    # Installing torch geometric packages with specific CUDA+PyTorch version.\n",
        "    # See https://pytorch-geometric.readthedocs.io/en/latest/notes/installation.html for details\n",
        "    TORCH = torch.__version__.split('+')[0]\n",
        "    CUDA = 'cu' + torch.version.cuda.replace('.','')\n",
        "\n",
        "    !pip install torch-scatter     -f https://pytorch-geometric.com/whl/torch-{TORCH}+{CUDA}.html\n",
        "    !pip install torch-sparse      -f https://pytorch-geometric.com/whl/torch-{TORCH}+{CUDA}.html\n",
        "    !pip install torch-geometric\n",
        "    import torch_geometric"
      ]
    },
    {
      "cell_type": "markdown",
      "metadata": {
        "id": "V0Nvh_-qEo1q"
      },
      "source": [
        "We can now use the library to download and import the dataset. Initializing the `Planetoid` class returns a `Dataset` object that can contain multiple graphs. In this task we will only use the `Cora` dataset (the citation network) and hence, we will select only the first element."
      ]
    },
    {
      "cell_type": "code",
      "execution_count": 2,
      "metadata": {
        "id": "vuOvwhsHD2YK",
        "colab": {
          "base_uri": "https://localhost:8080/"
        },
        "outputId": "70fbab1f-37c6-429c-e7f3-0d87256f9d53"
      },
      "outputs": [
        {
          "output_type": "stream",
          "name": "stderr",
          "text": [
            "Downloading https://github.com/kimiyoung/planetoid/raw/master/data/ind.cora.x\n",
            "Downloading https://github.com/kimiyoung/planetoid/raw/master/data/ind.cora.tx\n",
            "Downloading https://github.com/kimiyoung/planetoid/raw/master/data/ind.cora.allx\n",
            "Downloading https://github.com/kimiyoung/planetoid/raw/master/data/ind.cora.y\n",
            "Downloading https://github.com/kimiyoung/planetoid/raw/master/data/ind.cora.ty\n",
            "Downloading https://github.com/kimiyoung/planetoid/raw/master/data/ind.cora.ally\n",
            "Downloading https://github.com/kimiyoung/planetoid/raw/master/data/ind.cora.graph\n",
            "Downloading https://github.com/kimiyoung/planetoid/raw/master/data/ind.cora.test.index\n",
            "Processing...\n",
            "Done!\n"
          ]
        }
      ],
      "source": [
        "from torch_geometric.datasets import Planetoid\n",
        "data = Planetoid(root='data/Planetoid', name='Cora')[0]"
      ]
    },
    {
      "cell_type": "markdown",
      "metadata": {
        "id": "v4WZkoiHFyZm"
      },
      "source": [
        "\n",
        "#### Question 1 (0.25 pt)\n",
        "\n",
        "The `data` object is an instance of the `Data` class in PyG. Check the [documentation](https://pytorch-geometric.readthedocs.io/en/latest/modules/data.html) and report the following properties of the graph:\n",
        "\n",
        "- Number of nodes\n",
        "- Number of edges\n",
        "- The dimension $c$ of the feature vectors $x\\in\\mathbb{R}^c$\n",
        "- The number of targets for the classification task"
      ]
    },
    {
      "cell_type": "code",
      "execution_count": 15,
      "metadata": {
        "colab": {
          "base_uri": "https://localhost:8080/"
        },
        "id": "sjVuGJhlJC_7",
        "outputId": "bda9947e-f0a2-47f3-e40b-ab76b79c8743"
      },
      "outputs": [
        {
          "output_type": "stream",
          "name": "stdout",
          "text": [
            "Number of nodes: 2708\n",
            "Number of edges: 10556\n",
            "The dimension c of the feature vectors x: 1433\n",
            "The number of targets for the classification task: 7\n"
          ]
        }
      ],
      "source": [
        "# Your answer here\n",
        "num_nodes = data.num_nodes\n",
        "num_edges = data.num_edges\n",
        "num_features = data.num_features\n",
        "num_classes = len(torch.unique(data.y))\n",
        "\n",
        "print(f\"Number of nodes: {num_nodes}\")\n",
        "print(f\"Number of edges: {num_edges}\")\n",
        "print(f\"The dimension c of the feature vectors x: {num_features}\")\n",
        "print(f\"The number of targets for the classification task: {num_classes}\")\n",
        "# 'GlobalStorage' object has no attribute 'num_classes'"
      ]
    },
    {
      "cell_type": "markdown",
      "metadata": {
        "id": "G4DrGDAuJ2YO"
      },
      "source": [
        "#### Question 2 (0.25 pt)\n",
        "\n",
        "In PyG, edges are provided in a tensor of shape (2, number of edges). You can access it via `data.edge_index`. Each column in this tensor contains the IDs for two nodes that are connected in the graph.\n",
        "\n",
        "We saw that in an undirected graph, an edge between nodes $i$ and $j$ adds a value of 1 to positions $(i, j)$ and $(j, i)$ of the adjacency matrix. Is this also true for the edge index? That is, if there is an edge $(i, j)$ in `data.edge_index`, is there also an edge for $(j, i)$? This is important to know for the next steps of the implementation."
      ]
    },
    {
      "cell_type": "code",
      "source": [
        "edge_index = data.edge_index\n",
        "\n",
        "# Check if edge (i, j) and (j, i) are symmetric in edge_index\n",
        "check_symmetric = all((edge_index[1] == i).any() and (edge_index[0] == j).any() for i, j in edge_index.t().tolist())\n",
        "\n",
        "print(f\"Edge (i, j) and (j, i) both exist for all edge index: {check_symmetric}\")"
      ],
      "metadata": {
        "colab": {
          "base_uri": "https://localhost:8080/"
        },
        "id": "iEPs0QWbR-lc",
        "outputId": "47d69431-2b01-4611-b78c-c960f28d513c"
      },
      "execution_count": 16,
      "outputs": [
        {
          "output_type": "stream",
          "name": "stdout",
          "text": [
            "Edge (i, j) and (j, i) both exist for all edge index: True\n"
          ]
        }
      ]
    },
    {
      "cell_type": "markdown",
      "metadata": {
        "id": "YOpS3QTYiOqp"
      },
      "source": [
        "#### Question 3 (0.5 pt)\n",
        "\n",
        "In graphs, especially large ones, the adjacency matrix is **sparse**: most entries are zero. Sparse matrices allow for efficient storage and computation.\n",
        "\n",
        "To prepare and pre-process sparse matrices, we will use [`scipy.sparse`](https://docs.scipy.org/doc/scipy/reference/sparse.html). Once the matrices are ready, we will convert them to PyTorch tensors.\n",
        "\n",
        "We will use the [Sparse COO format](https://en.wikipedia.org/wiki/Sparse_matrix#Coordinate_list_(COO)). We encourage you to first get familiar with how it works after continuing with the assignment.\n",
        "\n",
        "- Use the [`scipy.sparse.coo_matrix()`](https://docs.scipy.org/doc/scipy/reference/generated/scipy.sparse.coo_matrix.html) function to build the adjacency matrix. Think of what arguments are needed, and how you can obtain them from the graph data loaded above.\n",
        "- Use the `sum()` method of sparse matrices, together with `scipy.sparse.diags()`, to compute the degree matrix using the definition above.\n",
        "\n",
        "Both resulting matrices must be sparse of type `float32`."
      ]
    },
    {
      "cell_type": "code",
      "source": [
        "# Your answer here\n",
        "import numpy as np\n",
        "from scipy.sparse import coo_matrix, diags\n",
        "\n",
        "edge_index = data.edge_index\n",
        "num_nodes = data.num_nodes\n",
        "row = np.array(edge_index[0])\n",
        "col = np.array(edge_index[1])\n",
        "data1 = np.repeat(1, edge_index.shape[1])\n",
        "\n",
        "# Generate the adjacency matrix\n",
        "adjacency_matrix = coo_matrix((data1, (row, col)), shape=(num_nodes, num_nodes), dtype=np.float32)\n",
        "adj_toarray = adjacency_matrix.toarray()\n",
        "\n",
        "# Generate the degree matrix\n",
        "summed_adj = adjacency_matrix.sum(axis=0, dtype=np.float32)\n",
        "degree_matrix = diags(summed_adj, [0,], shape=(num_nodes, num_nodes))\n",
        "degree_toarray = degree_matrix.toarray()\n",
        "\n",
        "print(f\"[Sparse adjacency matrix (Sparse COO format)]: datatype is {adjacency_matrix.dtype}\\n{adjacency_matrix}\\nIn array:\\n{adj_toarray}\")\n",
        "print(f\"\\n[Degree matrix]: datatype is {degree_matrix.dtype}\\n {degree_matrix}\\nIn array:\\n{degree_toarray}\")"
      ],
      "metadata": {
        "colab": {
          "base_uri": "https://localhost:8080/"
        },
        "id": "hibC7Xau3cZd",
        "outputId": "46963831-5197-4da1-c514-e26835a340fd"
      },
      "execution_count": 17,
      "outputs": [
        {
          "output_type": "stream",
          "name": "stdout",
          "text": [
            "[Sparse adjacency matrix (Sparse COO format)]: datatype is float32\n",
            "  (0, 633)\t1.0\n",
            "  (0, 1862)\t1.0\n",
            "  (0, 2582)\t1.0\n",
            "  (1, 2)\t1.0\n",
            "  (1, 652)\t1.0\n",
            "  (1, 654)\t1.0\n",
            "  (2, 1)\t1.0\n",
            "  (2, 332)\t1.0\n",
            "  (2, 1454)\t1.0\n",
            "  (2, 1666)\t1.0\n",
            "  (2, 1986)\t1.0\n",
            "  (3, 2544)\t1.0\n",
            "  (4, 1016)\t1.0\n",
            "  (4, 1256)\t1.0\n",
            "  (4, 1761)\t1.0\n",
            "  (4, 2175)\t1.0\n",
            "  (4, 2176)\t1.0\n",
            "  (5, 1629)\t1.0\n",
            "  (5, 1659)\t1.0\n",
            "  (5, 2546)\t1.0\n",
            "  (6, 373)\t1.0\n",
            "  (6, 1042)\t1.0\n",
            "  (6, 1416)\t1.0\n",
            "  (6, 1602)\t1.0\n",
            "  (7, 208)\t1.0\n",
            "  :\t:\n",
            "  (2694, 431)\t1.0\n",
            "  (2694, 2695)\t1.0\n",
            "  (2695, 431)\t1.0\n",
            "  (2695, 2694)\t1.0\n",
            "  (2696, 2615)\t1.0\n",
            "  (2697, 986)\t1.0\n",
            "  (2698, 1400)\t1.0\n",
            "  (2698, 1573)\t1.0\n",
            "  (2699, 2630)\t1.0\n",
            "  (2700, 1151)\t1.0\n",
            "  (2701, 44)\t1.0\n",
            "  (2701, 2624)\t1.0\n",
            "  (2702, 186)\t1.0\n",
            "  (2702, 1536)\t1.0\n",
            "  (2703, 1298)\t1.0\n",
            "  (2704, 641)\t1.0\n",
            "  (2705, 287)\t1.0\n",
            "  (2706, 165)\t1.0\n",
            "  (2706, 169)\t1.0\n",
            "  (2706, 1473)\t1.0\n",
            "  (2706, 2707)\t1.0\n",
            "  (2707, 165)\t1.0\n",
            "  (2707, 598)\t1.0\n",
            "  (2707, 1473)\t1.0\n",
            "  (2707, 2706)\t1.0\n",
            "In array:\n",
            "[[0. 0. 0. ... 0. 0. 0.]\n",
            " [0. 0. 1. ... 0. 0. 0.]\n",
            " [0. 1. 0. ... 0. 0. 0.]\n",
            " ...\n",
            " [0. 0. 0. ... 0. 0. 0.]\n",
            " [0. 0. 0. ... 0. 0. 1.]\n",
            " [0. 0. 0. ... 0. 1. 0.]]\n",
            "\n",
            "[Degree matrix]: datatype is float32\n",
            "   (0, 0)\t3.0\n",
            "  (1, 1)\t3.0\n",
            "  (2, 2)\t5.0\n",
            "  (3, 3)\t1.0\n",
            "  (4, 4)\t5.0\n",
            "  (5, 5)\t3.0\n",
            "  (6, 6)\t4.0\n",
            "  (7, 7)\t1.0\n",
            "  (8, 8)\t3.0\n",
            "  (9, 9)\t2.0\n",
            "  (10, 10)\t2.0\n",
            "  (11, 11)\t2.0\n",
            "  (12, 12)\t4.0\n",
            "  (13, 13)\t2.0\n",
            "  (14, 14)\t5.0\n",
            "  (15, 15)\t4.0\n",
            "  (16, 16)\t4.0\n",
            "  (17, 17)\t5.0\n",
            "  (18, 18)\t5.0\n",
            "  (19, 19)\t1.0\n",
            "  (20, 20)\t5.0\n",
            "  (21, 21)\t2.0\n",
            "  (22, 22)\t5.0\n",
            "  (23, 23)\t1.0\n",
            "  (24, 24)\t7.0\n",
            "  :\t:\n",
            "  (2683, 2683)\t1.0\n",
            "  (2684, 2684)\t2.0\n",
            "  (2685, 2685)\t4.0\n",
            "  (2686, 2686)\t2.0\n",
            "  (2687, 2687)\t2.0\n",
            "  (2688, 2688)\t3.0\n",
            "  (2689, 2689)\t2.0\n",
            "  (2690, 2690)\t1.0\n",
            "  (2691, 2691)\t2.0\n",
            "  (2692, 2692)\t1.0\n",
            "  (2693, 2693)\t1.0\n",
            "  (2694, 2694)\t2.0\n",
            "  (2695, 2695)\t2.0\n",
            "  (2696, 2696)\t1.0\n",
            "  (2697, 2697)\t1.0\n",
            "  (2698, 2698)\t2.0\n",
            "  (2699, 2699)\t1.0\n",
            "  (2700, 2700)\t1.0\n",
            "  (2701, 2701)\t2.0\n",
            "  (2702, 2702)\t2.0\n",
            "  (2703, 2703)\t1.0\n",
            "  (2704, 2704)\t1.0\n",
            "  (2705, 2705)\t1.0\n",
            "  (2706, 2706)\t4.0\n",
            "  (2707, 2707)\t4.0\n",
            "In array:\n",
            "[[3. 0. 0. ... 0. 0. 0.]\n",
            " [0. 3. 0. ... 0. 0. 0.]\n",
            " [0. 0. 5. ... 0. 0. 0.]\n",
            " ...\n",
            " [0. 0. 0. ... 1. 0. 0.]\n",
            " [0. 0. 0. ... 0. 4. 0.]\n",
            " [0. 0. 0. ... 0. 0. 4.]]\n"
          ]
        }
      ]
    },
    {
      "cell_type": "markdown",
      "metadata": {
        "id": "AIEJyQi2TzyY"
      },
      "source": [
        "You might wonder why we suggest to use a scipy sparse matrix, while also PyTorch supports them. The reason is that in the next step, we will be multiplying two sparse matrices, an operation not supported in PyTorch. PyTorch only allows multiplying a sparse matrix with a dense one, something which we will be doing at a later stage.\n",
        "\n"
      ]
    },
    {
      "cell_type": "markdown",
      "metadata": {
        "id": "YlmzSb0up4LB"
      },
      "source": [
        "### The Graph Convolutional Network\n",
        "\n",
        "The goal of the graph convolution is to take the feature vectors of all nodes $X\\in\\mathbb{R}^{n\\times c}$, and propagate them along the existing edges, to obtain updated representations $Z\\in\\mathbb{R}^{n\\times d}$.\n",
        "\n",
        "\n",
        "The GCN is initially motivated as performing a convolution, similarly as it is done in CNNs for images, for graph-structured data. In Kipf and Welling (2017), a theoretical derivation leads to the following formula:\n",
        "\n",
        "$$\n",
        "Z = \\tilde{D}^{-\\frac{1}{2}}\\tilde{A}\\tilde{D}^{-\\frac{1}{2}}XW\n",
        "$$\n",
        "\n",
        "where\n",
        "\n",
        "- $W\\in\\mathbb{R}^{c\\times d}$ is a matrix of parameters to be learned via gradient descent\n",
        "- $\\tilde{A} = A + I_n$, where $I_n$ is an $n\\times n$ identity matrix\n",
        "- $\\tilde{D}$ is the degree matrix computed with $\\tilde{A}$ as the adjacency matrix\n",
        "\n",
        "If we define $\\hat{A} = \\tilde{D}^{-\\frac{1}{2}}\\tilde{A}\\tilde{D}^{-\\frac{1}{2}}$, the graph convolution can be written as $Z = \\hat{A}XW$."
      ]
    },
    {
      "cell_type": "markdown",
      "metadata": {
        "id": "LL4b-MTvysBp"
      },
      "source": [
        "#### Question 4 (0.25 pt)\n",
        "\n",
        "Given the formula for the GCN, explain why it operates by propagating feature vectors across the graph. To answer this, it might be useful to recall the definitions of the adjacency and degree matrices, and how they are involved in the formula."
      ]
    },
    {
      "cell_type": "markdown",
      "metadata": {
        "id": "Vgx2SkTTyiSN"
      },
      "source": [
        "*Your answer here*\n",
        "\n",
        "GCN propagates the feature vectors of nodes by using the adjacency and degree matrices. It is executed with the structural information of the graph into the feature vectors.\n",
        "To explain this, adjacency and degree matrices will be used. The adjacency matrix ($\\tilde{A}$) shows the connections in the graph, that illustrates the presence of edges between nodes. In the propagation, this matrix allows to propagate via edges. The degree matrix ($\\tilde{D}$) indicates the number of edges connected to a certain node. It can be utilized to adjust the amount of information for propagation at each node.\n",
        "\n",
        "So based on the given formula $Z = \\hat{A}XW$ (when $\\hat{A} = \\tilde{D}^{-\\frac{1}{2}}\\tilde{A}\\tilde{D}^{-\\frac{1}{2}}$), output feature $Z$ is generated with given steps. The feature vectors of each node are averaged over those of its neighbors by $\\hat{A}X$. This is an illustration of how information spreads via the adjacency matrix along the edges. So the final output feature vector $Z$ comes from $W$, applying the parameters to $\\hat{A}X$."
      ]
    },
    {
      "cell_type": "markdown",
      "metadata": {
        "id": "QUGABEqxylsd"
      },
      "source": [
        "#### Question 5 (0.5 pt)\n",
        "\n",
        "Compute the **normalized adjacency matrix** $\\hat{A}$. The result should be a sparse matrix."
      ]
    },
    {
      "cell_type": "code",
      "source": [
        "# Your answer here\n",
        "from scipy.sparse import eye, identity\n",
        "\n",
        "I_n = eye(m=adjacency_matrix.shape[0], format=\"coo\", dtype=np.float32)\n",
        "tilde_A = adjacency_matrix + I_n\n",
        "tilde_D = degree_matrix + identity(n=tilde_A.shape[0], dtype=np.float32, format=\"coo\")\n",
        "hat_A = ((tilde_D.power(-0.5)).dot(tilde_A)).dot((tilde_D.power(-0.5))).tocoo().toarray()\n",
        "print(f\"Normalized adjacency matrix hat_A:\\n {hat_A}\")"
      ],
      "metadata": {
        "id": "-aosPxkeRhxX",
        "outputId": "37e94590-c1b4-4eb6-ef34-d1e2e9a657c5",
        "colab": {
          "base_uri": "https://localhost:8080/"
        }
      },
      "execution_count": 18,
      "outputs": [
        {
          "output_type": "stream",
          "name": "stdout",
          "text": [
            "Normalized adjacency matrix hat_A:\n",
            " [[0.25       0.         0.         ... 0.         0.         0.        ]\n",
            " [0.         0.25       0.20412415 ... 0.         0.         0.        ]\n",
            " [0.         0.20412415 0.16666667 ... 0.         0.         0.        ]\n",
            " ...\n",
            " [0.         0.         0.         ... 0.49999997 0.         0.        ]\n",
            " [0.         0.         0.         ... 0.         0.19999999 0.19999999]\n",
            " [0.         0.         0.         ... 0.         0.19999999 0.19999999]]\n"
          ]
        }
      ]
    },
    {
      "cell_type": "markdown",
      "metadata": {
        "id": "LLLdGdZoMEy-"
      },
      "source": [
        "#### Question 6 (0.5 pt)\n",
        "\n",
        "So far we have used scipy to build and compute sparse matrices. Since we want to train a GCN with PyTorch, we need to convert $\\hat{A}$ into a sparse PyTorch tensor. You can do this with the [`torch.sparse_coo_tensor()`](https://pytorch.org/docs/stable/generated/torch.sparse_coo_tensor.html) function, making sure to specify `torch.float` as the type."
      ]
    },
    {
      "cell_type": "code",
      "source": [
        "import torch\n",
        "import numpy as np\n",
        "\n",
        "# Generate rows and cols where hat_A is non-zero\n",
        "rows, cols = np.where(hat_A != 0)\n",
        "\n",
        "# Convert the indices to a numpy array and then to a tensor\n",
        "indices = np.array([rows, cols])\n",
        "indices = torch.from_numpy(indices).type(torch.int64)\n",
        "\n",
        "# Get the values convert to tensors\n",
        "values = hat_A[rows, cols]\n",
        "values = torch.from_numpy(values).type(torch.float)\n",
        "\n",
        "# Create the sparse PyTorch tensor\n",
        "hat_A_tensor = torch.sparse_coo_tensor(indices=indices, values=values, size=hat_A.shape)\n",
        "print(f\"Converted hat_A into a sparse PyTorch Tensor: type is {hat_A_tensor.dtype}\\n{hat_A_tensor}\")\n"
      ],
      "metadata": {
        "id": "bQRTd0aUwzbb",
        "colab": {
          "base_uri": "https://localhost:8080/"
        },
        "outputId": "da77d15e-9a64-47b2-9575-ae1effe1cc4b"
      },
      "execution_count": 19,
      "outputs": [
        {
          "output_type": "stream",
          "name": "stdout",
          "text": [
            "Converted hat_A into a sparse PyTorch Tensor: type is torch.float32\n",
            "tensor(indices=tensor([[   0,    0,    0,  ..., 2707, 2707, 2707],\n",
            "                       [   0,  633, 1862,  ..., 1473, 2706, 2707]]),\n",
            "       values=tensor([0.2500, 0.2500, 0.2236,  ..., 0.2000, 0.2000, 0.2000]),\n",
            "       size=(2708, 2708), nnz=13264, layout=torch.sparse_coo)\n"
          ]
        }
      ]
    },
    {
      "cell_type": "markdown",
      "metadata": {
        "id": "eAlRVT5aODkX"
      },
      "source": [
        "#### Question 7 (0.5 pt)\n",
        "\n",
        "We now have all the ingredients to build a GCN layer. Implement a class (inheriting from `torch.nn.Module`) with a learnable matrix of weights $W\\in\\mathbb{R}^{c\\times d}$. Make sure to\n",
        "\n",
        "- Call this class `GCNLayer`\n",
        "- The `__init__()` constructor should take as argument the number of input and output features.\n",
        "- Use `torch.nn.init.kaiming_uniform_` to initialize $W$.\n",
        "- Define the `forward` method, which takes as input $X$ and $\\hat{A}$ and returns $Z$. Note that multiplications involving the sparse matrix $\\hat{A}$ have to be done with `torch.spmm`.\n",
        "\n",
        "Once you have implemented the class, instantiate a layer with the correct number of input features for the Cora dataset, and a number of output features of your choice. Do a forward pass and report the shape of the output tensor."
      ]
    },
    {
      "cell_type": "code",
      "source": [
        "import torch\n",
        "import torch.nn as nn\n",
        "\n",
        "class GCNLayer(nn.Module):\n",
        "    def __init__(self, in_features, out_features):\n",
        "        super(GCNLayer, self).__init__()\n",
        "        self.weight = nn.Parameter(torch.Tensor(in_features, out_features))\n",
        "        nn.init.kaiming_uniform_(self.weight)\n",
        "\n",
        "    def forward(self, x, hat_A):\n",
        "        Z = torch.spmm(hat_A, torch.mm(x, self.weight))\n",
        "        return Z\n",
        "\n",
        "# Instantiate a layer\n",
        "num_features = data.num_features\n",
        "num_classes = len(torch.unique(data.y))\n",
        "layer = GCNLayer(num_features, num_classes)\n",
        "\n",
        "# Perform a forward pass\n",
        "X = data.x # data.x is alreay PyTorch tensor.\n",
        "Z = layer(X, hat_A_tensor)\n",
        "\n",
        "# Print the shape of the output tensor\n",
        "print(Z.shape)"
      ],
      "metadata": {
        "id": "ZvfDdxtLOxZY",
        "colab": {
          "base_uri": "https://localhost:8080/"
        },
        "outputId": "938fa147-76b4-4881-8e4c-500b524a2a9b"
      },
      "execution_count": 20,
      "outputs": [
        {
          "output_type": "stream",
          "name": "stdout",
          "text": [
            "torch.Size([2708, 7])\n"
          ]
        }
      ]
    },
    {
      "cell_type": "markdown",
      "metadata": {
        "id": "1ptAiizZUKaM"
      },
      "source": [
        "#### Question 8 (0.5 pt)\n",
        "\n",
        "As we have seen so far, the GCN layer implements a special type of linear transformation of the inputs. However, it is often beneficial in deep learning to stack multiple, non-linear transformations of the input features. Implement a second module class for a model with two GCN layers (use the module you implemented in the previous question).\n",
        "\n",
        "- Call this class `GCN`\n",
        "- The constructor must now take as input the number of input features, the output dimension of the first layer (this is the hidden layer), and the output dimension of the output layer.\n",
        "- In the forward pass, add a ReLU activation function after the first layer."
      ]
    },
    {
      "cell_type": "code",
      "source": [
        "import torch.nn.functional as F\n",
        "\n",
        "class GCN(nn.Module):\n",
        "    def __init__(self, num_input_features, hidden_dim, num_output_features):\n",
        "        super(GCN, self).__init__()\n",
        "        self.gcn1 = GCNLayer(num_input_features, hidden_dim)\n",
        "        self.gcn2 = GCNLayer(hidden_dim, num_output_features)\n",
        "\n",
        "    def forward(self, X, hat_A):\n",
        "        Z = F.relu(self.gcn1(X, hat_A))  # Apply ReLU after the first layer\n",
        "        Z = self.gcn2(Z, hat_A)\n",
        "        return Z"
      ],
      "metadata": {
        "id": "ofdoIDQ65K7W"
      },
      "execution_count": 21,
      "outputs": []
    },
    {
      "cell_type": "markdown",
      "metadata": {
        "id": "6NVB-3I5Wfkf"
      },
      "source": [
        "### GCNs for semi-supervised node classification\n",
        "\n",
        "Now that we have a GCN with two layers, we can test its performance in a node classification task. We will pass the input node features $X$ through the GCN layers, and the output will be of size $n\\times k$ where $k$ is the number of classes (which you found in question 1). The label denotes the topic an article in the citation network belongs to (e.g. physics, computer science, etc.)."
      ]
    },
    {
      "cell_type": "markdown",
      "metadata": {
        "id": "trc4dSa7cuQj"
      },
      "source": [
        "#### Question 9 (1.5 pt)\n",
        "\n",
        "Note that the `data` object contains all labels (for all splits) in `data.y`, and binary masks for the train, validation, and test splits in `data.train_mask`, `data.val_mask`, and `data.test_mask`, respectively. These masks are the same size as `data.y`, and indicate which labels belong to which split.\n",
        "\n",
        "- Create a GCN with two layers (using the class from the previous question), with 32 as the hidden dimension, and the number of output features equal to the number of classes in the Cora dataset.\n",
        "\n",
        "- Use the Adam optimizer with a learning rate of 0.01.\n",
        "\n",
        "- Implement a training loop for the GCN. At each step, pass $X$ and $\\hat{A}$ to the GCN to obtain the logits. Compute the mean cross-entropy loss **only for the training instances**, using the binary masks.\n",
        "\n",
        "- After each training step, evaluate the accuracy for the validation instances.\n",
        "\n",
        "- Train for 100 epochs. Once training is finished, plot the training loss and validation accuracy (in a graph in function of the epoch number), and report the accuracy in the test set.\n",
        "\n",
        "You should obtain an accuracy over 75% on both the validation and test sets. You can also compare your results with the original paper, which also contains results for the Cora dataset. Give a brief discussion on the results of your experiments.\n",
        "\n",
        "Note that in contrast with other tasks, like image classification on some datasets, we don't use mini-batches here. The whole matrix of features and the adjacency is passed to the GCN in one step."
      ]
    },
    {
      "cell_type": "code",
      "source": [
        "import torch.optim as optim\n",
        "import matplotlib.pyplot as plt\n",
        "\n",
        "# Instantiate a GCN model\n",
        "num_features = data.num_features\n",
        "hidden_dim = 32\n",
        "num_classes = len(torch.unique(data.y))\n",
        "model = GCN(num_features, hidden_dim, num_classes)\n",
        "\n",
        "# Use Adam optimizer\n",
        "optimizer = optim.Adam(model.parameters(), lr=0.01)\n",
        "\n",
        "# Implement training loop\n",
        "train_losses = []\n",
        "val_accuracies = []\n",
        "\n",
        "for epoch in range(100):\n",
        "    model.train()\n",
        "    optimizer.zero_grad()\n",
        "\n",
        "    # Forward pass\n",
        "    out = model(X, hat_A_tensor)\n",
        "    train_loss = F.cross_entropy(out[data.train_mask], data.y[data.train_mask])\n",
        "    train_losses.append(train_loss.item())\n",
        "\n",
        "    # Backward pass\n",
        "    train_loss.backward()\n",
        "    optimizer.step()\n",
        "\n",
        "    # Validation - accuracy\n",
        "    model.eval()\n",
        "    _, pred = model(X, hat_A_tensor).max(dim=1)\n",
        "    correct = float(pred[data.val_mask].eq(data.y[data.val_mask]).sum().item())\n",
        "    val_accuracy = correct / data.val_mask.sum().item()\n",
        "    val_accuracies.append(val_accuracy)\n",
        "\n",
        "    # Print in every 10 epochs\n",
        "    if (epoch +1) % 10 == 0:\n",
        "        print(f\"Epoch {epoch+1}/{100}  Train loss: {train_loss.item():.4f}, Validation accuracy: {val_accuracy:.4f}\")\n",
        "\n",
        "\n",
        "# Plot training loss\n",
        "plt.figure(figsize=(12, 6))\n",
        "plt.subplot(1, 2, 1)\n",
        "plt.plot(train_losses)\n",
        "plt.xlabel('Epoch')\n",
        "plt.ylabel('Loss')\n",
        "plt.title('Training Loss')\n",
        "plt.grid(True)\n",
        "\n",
        "\n",
        "# Plot validation accuracy\n",
        "plt.subplot(1, 2, 2)\n",
        "plt.plot(val_accuracies)\n",
        "plt.xlabel('Epoch')\n",
        "plt.ylabel('Accuracy')\n",
        "plt.title('Validation Accuracy')\n",
        "plt.grid(True)\n",
        "\n",
        "plt.tight_layout()\n",
        "plt.show()\n",
        "\n",
        "# Test accuracy\n",
        "model.eval()\n",
        "_, pred = model(X, hat_A_tensor).max(dim=1)\n",
        "correct = float(pred[data.test_mask].eq(data.y[data.test_mask]).sum().item())\n",
        "test_accuracy = correct / data.test_mask.sum().item()\n",
        "\n",
        "print(f\"Final Training Loss: {train_losses[-1]:.4f}\")\n",
        "print(f\"Final Validation Accuracy: {val_accuracies[-1]}\")\n",
        "print(f\"Test Accuracy: {test_accuracy}\")"
      ],
      "metadata": {
        "id": "87bPHVjbAOEY",
        "colab": {
          "base_uri": "https://localhost:8080/",
          "height": 839
        },
        "outputId": "f6519129-8763-4857-aa2e-435d14fbe5d3"
      },
      "execution_count": null,
      "outputs": [
        {
          "output_type": "stream",
          "name": "stdout",
          "text": [
            "Epoch 10/100  Train loss: 0.3076, Validation accuracy: 0.6980\n",
            "Epoch 20/100  Train loss: 0.0277, Validation accuracy: 0.7740\n",
            "Epoch 30/100  Train loss: 0.0056, Validation accuracy: 0.7560\n",
            "Epoch 40/100  Train loss: 0.0021, Validation accuracy: 0.7620\n",
            "Epoch 50/100  Train loss: 0.0013, Validation accuracy: 0.7660\n",
            "Epoch 60/100  Train loss: 0.0009, Validation accuracy: 0.7660\n",
            "Epoch 70/100  Train loss: 0.0008, Validation accuracy: 0.7700\n",
            "Epoch 80/100  Train loss: 0.0007, Validation accuracy: 0.7760\n",
            "Epoch 90/100  Train loss: 0.0006, Validation accuracy: 0.7760\n",
            "Epoch 100/100  Train loss: 0.0006, Validation accuracy: 0.7760\n"
          ]
        },
        {
          "output_type": "display_data",
          "data": {
            "text/plain": [
              "<Figure size 1200x600 with 2 Axes>"
            ],
            "image/png": "[encoded data removed]"
          },
          "metadata": {}
        },
        {
          "output_type": "stream",
          "name": "stdout",
          "text": [
            "Final Training Loss: 0.0006\n",
            "Final Validation Accuracy: 0.776\n",
            "Test Accuracy: 0.777\n"
          ]
        }
      ]
    },
    {
      "cell_type": "markdown",
      "source": [
        "*Give a brief discussion on the results of your experiments.*\n",
        "- Train loss: As the plot shows, the train loss is decreasing while epoch progress. The 10th epoch shows train loss 0.3076, however, the 100th epoch results 0.0006 train loss. The decreasing progress becomes dull after around 30th epoch.\n",
        "- Validation accuracy: The validation accuracy is increasing while epoch progress. It illustrates that till around the 80th epoch (0.7760) the performance of model is improving, however it stuck in the same accuracy rate after on.\n",
        "- Test accuracy: The final test accuracy is 0.777. It indicates that the model performed well in generalizing with the test set.\n",
        "\n",
        "We can consider adjusting hyperparameters such as learning rate or adapting different optimizer to enhance the result."
      ],
      "metadata": {
        "id": "Hfe2oamFUWwn"
      }
    },
    {
      "cell_type": "markdown",
      "metadata": {
        "id": "vb5YjHVClCqo"
      },
      "source": [
        "#### Question 10 (0.5 pt)\n",
        "\n",
        "The paper introduces GCNs as a way to solve a *semi-supervised* classification problem.\n",
        "\n",
        "- What makes this problem semi-supervised?\n",
        "- What is the proportion of labeled data used for training with respect to labeled data in the validation and test sets? What is difference in this context with other benchmark tasks in machine learning, like image classification with MNIST?\n",
        "- Why do you think the GCN performs well in this semi-supervised scenario?"
      ]
    },
    {
      "cell_type": "code",
      "execution_count": 3,
      "metadata": {
        "id": "7qw58r1MmCUJ",
        "colab": {
          "base_uri": "https://localhost:8080/"
        },
        "outputId": "e8d0cde6-ca60-447b-a4a9-1a3b89c1fe94"
      },
      "outputs": [
        {
          "output_type": "stream",
          "name": "stdout",
          "text": [
            "Q10.1: The problem occurs in semi-supervised learning beacuse some part of nodes have labels but rest of them do not have.\n",
            "Semi-supervised learning allows to train this partial labeled data\n",
            "\n",
            "Q10.2\n",
            "Proportion of labeled training data w.r.t. all nodes: 0.05\n",
            "Proportion of labeled training data w.r.t. validation set: 0.28%\n",
            "Proportion of labeled training data w.r.t. test set: 0.14%\n",
            "\n",
            "In the paper, it used 20 labels per class with citatation newtwork dataset (where Cora is included).\n",
            "The experimental set-up noted that 500 labeled examples for validation set and 1,000 labeled exampled for test set. \n",
            "The label rate of Cora is 0.052. The proportion of training data is similar to this with repect to all data. \n",
            "It is a bit high compared to the proportion with repect to validation set and test set (0.28% and 0.14% respectively.)\n",
            "In general, the proportion of labeled data in training data is smaller than the validation and test set when conducting the semi-supervised learning. \n",
            "As mentioned in Q10.1, semi-supervised learning aims to utilize the limited number of labeled data to observe the dependencies of input and output.\n",
            "The difference with other benchmark tasks in machine learing like MNIST is whether data is labeled or not.\n",
            "MNIST image classification is using mostly labeled data, however, semi-supervised learning task is using partially labeled data.\n",
            "\n",
            "Q10.3: GCN performs well in the semi-supervised scenario because it propagate information from labeled nodes to unlabeled nodes employing graph structure.\n",
            "It detects the dependencies of the nodes from checking the neighborhood of the nodes.\n",
            "It helps the model to capture the relationships between labeled and unlabeled nodes.\n",
            "GCN allows to capture the relations between input and output using the graph structure. \n",
            "The structural features of GCN discloses the higher-order dependencies between nodes which leads better scenario in semi-supervised setting.\n",
            "Reference: Chen, Xin, et al. \"Can higher-order structural features improve the performance of graph neural networks for graph classification?.\" 2022 IEEE/WIC/ACM International Joint Conference on Web Intelligence and Intelligent Agent Technology (WI-IAT). IEEE, 2022.\n"
          ]
        }
      ],
      "source": [
        "# Your answer here\n",
        "\n",
        "# 1\n",
        "print(f\"Q10.1: The problem occurs in semi-supervised learning beacuse some part of nodes have labels but rest of them do not have.\\nSemi-supervised learning allows to train this partial labeled data\")\n",
        "\n",
        "# 2\n",
        "# Count the number of labeled nodes and sum it in each set\n",
        "num_nodes = data.num_nodes\n",
        "num_train = data.train_mask.sum()\n",
        "num_val = data.val_mask.sum()\n",
        "num_test = data.test_mask.sum()\n",
        "\n",
        "print(\"\\nQ10.2\")\n",
        "print(f'Proportion of labeled training data w.r.t. all nodes: {int(num_train) / num_nodes:.2f}')\n",
        "print(f\"Proportion of labeled training data w.r.t. validation set: {num_train / num_val:.2f}%\")\n",
        "print(f\"Proportion of labeled training data w.r.t. test set: {num_train / num_test:.2f}%\")\n",
        "\n",
        "print(f\"\\nIn the paper, it used 20 labels per class with citatation newtwork dataset (where Cora is included).\\nThe experimental set-up noted that 500 labeled examples for validation set and 1,000 labeled exampled for test set. \\nThe label rate of Cora is 0.052. The proportion of training data is similar to this with repect to all data. \\nIt is a bit high compared to the proportion with repect to validation set and test set (0.28% and 0.14% respectively.)\")\n",
        "print(f\"In general, the proportion of labeled data in training data is smaller than the validation and test set when conducting the semi-supervised learning. \\nAs mentioned in Q10.1, semi-supervised learning aims to utilize the limited number of labeled data to observe the dependencies of input and output.\")\n",
        "print(f\"The difference with other benchmark tasks in machine learing like MNIST is whether data is labeled or not.\\nMNIST image classification is using mostly labeled data, however, semi-supervised learning task is using partially labeled data.\")\n",
        "\n",
        "# 3\n",
        "print(f\"\\nQ10.3: GCN performs well in the semi-supervised scenario because it propagate information from labeled nodes to unlabeled nodes employing graph structure.\\nIt detects the dependencies of the nodes from checking the neighborhood of the nodes.\\nIt helps the model to capture the relationships between labeled and unlabeled nodes.\")\n",
        "print(f\"GCN allows to capture the relations between input and output using the graph structure. \\nThe structural features of GCN discloses the higher-order dependencies between nodes which leads better scenario in semi-supervised setting.\")\n",
        "print(f'Reference: Chen, Xin, et al. \"Can higher-order structural features improve the performance of graph neural networks for graph classification?.\" 2022 IEEE/WIC/ACM International Joint Conference on Web Intelligence and Intelligent Agent Technology (WI-IAT). IEEE, 2022.')"
      ]
    },
    {
      "cell_type": "markdown",
      "metadata": {
        "id": "4ihrjZddvz5d"
      },
      "source": [
        "### Loading a dataset of proteins\n",
        "\n",
        "In the previous sections you learned how to pass the adjacency matrix of a graph with a couple of thousand of nodes, to classify each node with a particular label. A different and useful application of GCNs is graph classification.\n",
        "\n",
        "In contrast with the previous part, where there was a single, big graph, in graph classification we have multiple graphs, and each graph can be assigned a label. In this part of the assignment you will implement a classifier for proteins.\n",
        "\n",
        "[Proteins](https://en.wikipedia.org/wiki/Protein_(nutrient)) are parts of the buildings block of life. They consist of chains of amino acids, and can take many shapes. In the PROTEINS dataset, proteins are represented as graphs, where the nodes are amino acids, and an edge between them indicates that they are 6 [Angstroms](https://en.wikipedia.org/wiki/Angstrom) apart. All graphs have a binary label, where 1 means that the protein is not an enzyme.\n",
        "\n",
        "We will start by loading and examining this dataset."
      ]
    },
    {
      "cell_type": "code",
      "execution_count": 4,
      "metadata": {
        "id": "xmqweMcvnUH6",
        "colab": {
          "base_uri": "https://localhost:8080/"
        },
        "outputId": "04cd3d0d-12fa-498e-861e-b1571f4d5bcb"
      },
      "outputs": [
        {
          "output_type": "stream",
          "name": "stderr",
          "text": [
            "Downloading https://www.chrsmrrs.com/graphkerneldatasets/PROTEINS.zip\n",
            "Extracting data/TU/PROTEINS/PROTEINS.zip\n",
            "Processing...\n",
            "Done!\n"
          ]
        }
      ],
      "source": [
        "from torch_geometric.datasets import TUDataset\n",
        "dataset = TUDataset(root='data/TU', name='PROTEINS', use_node_attr=True)"
      ]
    },
    {
      "cell_type": "markdown",
      "metadata": {
        "id": "_oF1gyKPXiz-"
      },
      "source": [
        "#### Question 11 (0.25 pt)\n",
        "\n",
        "Unlike in the previous part, where we selected the first element returned by the loading function, note that here we get all the elements returned by `TUDataset()`. `dataset` is an interable object, that has some similar behaviors as a Python list: you can call `len()` on it, and you can takes slices from it.\n",
        "\n",
        "Each element in `dataset` is a `Data` object containing a graph that represents a protein. This is the same type of object that we used in the previous part to store the Cora citation network.\n",
        "\n",
        "Knowing this, answer the following:\n",
        "\n",
        "- How many proteins (graphs) are there in `dataset`?\n",
        "- Take any protein from `dataset`. How many nodes and edges does it contain? What is its label? How many features does each node have?"
      ]
    },
    {
      "cell_type": "code",
      "execution_count": 5,
      "metadata": {
        "id": "ZNPsnXXbbHHe",
        "colab": {
          "base_uri": "https://localhost:8080/"
        },
        "outputId": "85113e2c-d8d4-4ace-fe9a-242a8547131c"
      },
      "outputs": [
        {
          "output_type": "stream",
          "name": "stdout",
          "text": [
            "The number of proteins (graphs) in dataset: 1113\n",
            "The selected protein is the first protein in dataset: dataset[0]\n",
            "Number of nodes: 42\n",
            "Number of edges: 162\n",
            "Label of selected protein: 0\n",
            "Number of features in each node: 4\n"
          ]
        }
      ],
      "source": [
        "# Your answer here\n",
        "\n",
        "# Count the number of proteins\n",
        "num_proteins = len(dataset)\n",
        "print(f\"The number of proteins (graphs) in dataset: {num_proteins}\")\n",
        "\n",
        "# Take any protein from dataset\n",
        "selected_protein = dataset[0] # select the first protein\n",
        "num_nodes = selected_protein.num_nodes\n",
        "num_edges = selected_protein.num_edges\n",
        "label = selected_protein.y.item()\n",
        "num_node_features = selected_protein.num_node_features\n",
        "\n",
        "print(f\"The selected protein is the first protein in dataset: dataset[0]\")\n",
        "print(f\"Number of nodes: {num_nodes}\\nNumber of edges: {num_edges}\")\n",
        "print(f\"Label of selected protein: {label}\\nNumber of features in each node: {num_node_features}\")"
      ]
    },
    {
      "cell_type": "markdown",
      "metadata": {
        "id": "kHSklBZXpKpR"
      },
      "source": [
        "#### Question 12 (0.5 pt)\n",
        "\n",
        "To properly train and evaluate our model, we need training, validation, and test splits.\n",
        "\n",
        "For reproducibility purposes, we generate a random tensor of indices for you. Use it to extract the three splits from `dataset`.\n",
        "\n",
        "For training, take 80% of the indices (starting from the first element in `indices`), then the following 10% for validation, and the remaining 10% for testing. You can use the indices to index `dataset`.\n",
        "\n",
        "Call the resulting splits `train_dataset`, `valid_dataset`, and `test_dataset`."
      ]
    },
    {
      "cell_type": "code",
      "execution_count": 6,
      "metadata": {
        "id": "ttY4d1GInn08",
        "colab": {
          "base_uri": "https://localhost:8080/"
        },
        "outputId": "01c4c100-a94b-42b4-ade4-9905dc17eee8"
      },
      "outputs": [
        {
          "output_type": "stream",
          "name": "stdout",
          "text": [
            "Total number of proteins: 1113\n",
            "Number of training proteins: 890\n",
            "Number of validation proteins: 111\n",
            "Number of test proteins: 112\n"
          ]
        }
      ],
      "source": [
        "# Don't erase the following three lines\n",
        "import torch\n",
        "torch.random.manual_seed(0)\n",
        "indices = torch.randperm(len(dataset))\n",
        "\n",
        "# Your answer here\n",
        "\n",
        "# Compute the size for split\n",
        "train_size = int(0.8 * len(indices))\n",
        "valid_size = int(0.1 * len(indices))\n",
        "\n",
        "# Split indices based on the size\n",
        "train_indices = indices[:train_size]\n",
        "valid_indices = indices[train_size : train_size+valid_size]\n",
        "test_indices = indices[train_size+valid_size:]\n",
        "\n",
        "# Split the dataset\n",
        "train_dataset = dataset[train_indices]\n",
        "valid_dataset = dataset[valid_indices]\n",
        "test_dataset = dataset[test_indices]\n",
        "\n",
        "print(f\"Total number of proteins: {len(indices)}\")\n",
        "print(f\"Number of training proteins: {len(train_dataset)}\")\n",
        "print(f\"Number of validation proteins: {len(valid_dataset)}\")\n",
        "print(f\"Number of test proteins: {len(test_dataset)}\")"
      ]
    },
    {
      "cell_type": "markdown",
      "metadata": {
        "id": "rDJbB4CQqsfp"
      },
      "source": [
        "### Working with a batch of graphs\n",
        "\n",
        "When working with the Cora dataset, you used the information in `data.edge_index` to build the sparse normalized adjacency matrix $\\hat{A}$ that is required by the GCN. We could do something similar here: for each graph, we build $\\hat{A}$, and pass it to the GCN. However, if the number of graphs is big, this can really slow down training.\n",
        "\n",
        "To avoid this, we will resort to a very useful trick that also allows us to reuse the same GCN you implemented previously. The trick makes it possible to do a forward pass through the GCN for multiple, disconnected graphs at the same time (instead of only one), much like when you train with mini-batches for other kinds of data.\n",
        "\n",
        "Let's first revisit the propagation rule of the GCN, $Z = \\hat{A}XW$, with an illustration (we have omitted the cells of $X$ and $W$ for clarity):\n",
        "\n",
        "<img src=\"https://raw.githubusercontent.com/dfdazac/dlvu-a5/main/img/02-gcn-forward.png\">\n",
        "\n",
        "If we have multiple graphs, we can still use the same propagation rule, if we\n",
        "\n",
        "- Set $\\hat{A}$ to be a block diagonal matrix, where the blocks are the different adjacency matrices of the graphs\n",
        "- Concatenate the feature matrices along the first dimension\n",
        "\n",
        "This is illustrated in the following figure, for a batch of 3 graphs. Note that the elements outside of the blocks are zero.\n",
        "\n",
        "<img src=\"https://raw.githubusercontent.com/dfdazac/dlvu-a5/main/img/02-gcn-batch-forward.png\">\n",
        "\n",
        "The resulting adjacency matrix $\\hat{A}_B$ can also be built as a sparse matrix, and once we have it together with the concatenated matrix of features, the computation of the graph convolution is exactly the same as before. Note how this trick also allows us to process graphs with different sizes and structures.\n"
      ]
    },
    {
      "cell_type": "markdown",
      "metadata": {
        "id": "0DLPJ62b2mQ6"
      },
      "source": [
        "#### Question 13 (0.5 pt)\n",
        "\n",
        "\n",
        "Just as the citation network, the graphs in each of the datasets you created in Question 12 also have an `edge_index` attribute, which can be used to compute the normalized adjacency matrix $\\hat{A}$, for each graph.\n",
        "\n",
        "Reusing your code for Questions 3 and 5, define a function `get_a_norm()` that takes as input an element of a dataset (e.g. `train_dataset[0]`), and returns a `scipy.sparse` matrix containing $\\hat{A}$.\n",
        "\n",
        "Note that an element of a dataset has properties like `num_edges`, `num_nodes`, etc. which you can use here."
      ]
    },
    {
      "cell_type": "code",
      "execution_count": 7,
      "metadata": {
        "id": "4nvPX2GB8oXp"
      },
      "outputs": [],
      "source": [
        "# Your answer here\n",
        "import numpy as np\n",
        "from scipy.sparse import coo_matrix, diags\n",
        "\n",
        "def get_a_norm(element):\n",
        "    # Generate adjacency matrix (A)\n",
        "    edge_index = element.edge_index\n",
        "    num_nodes = element.num_nodes\n",
        "    row = np.array(edge_index[0])\n",
        "    col = np.array(edge_index[1])\n",
        "    value = np.repeat(1, element.num_edges)\n",
        "    adj = coo_matrix((value, (row, col)), shape=(num_nodes, num_nodes), dtype=np.float32).toarray()\n",
        "\n",
        "    # Generate tilde adjacency matrix (tilde_A)\n",
        "    tilde_adj = adj + np.eye(num_nodes) # Add I_n to adjacency matrix\n",
        "\n",
        "    # Generate degree matrix (tilde_D)\n",
        "    tilde_d = diags(tilde_adj.sum(axis=1).flatten(), dtype=np.float32).toarray()\n",
        "\n",
        "    # Generate normalized adjacency matrix (hat_A)\n",
        "    a_norm = np.linalg.inv(np.sqrt(tilde_d)) @ tilde_adj @ np.linalg.inv(np.sqrt(tilde_d))\n",
        "\n",
        "    return a_norm\n"
      ]
    },
    {
      "cell_type": "markdown",
      "metadata": {
        "id": "cBrmYBY3AfhW"
      },
      "source": [
        "#### Question 14 (1 pt)\n",
        "\n",
        "To prepare the batch of graphs, we need to collect multiple adjacency matrices, feature matrices, and labels.\n",
        "\n",
        "When using the trick described in the last figure, we see that we have to keep track of when a graph starts and when it ends, so that we can later differentiate the outputs due to $X^{(0)}$, $X^{(1)}$, etc. To achieve this, we will additionally collect a 1D array of batch indices, one for each $X^{(i)}$.\n",
        "\n",
        "The 1D array has as many elements as rows in $X^{(i)}$, and it is filled with the value $i$ (the position of $X^{(i)}$ in the batch):\n",
        "\n",
        "<img src=\"https://raw.githubusercontent.com/dfdazac/dlvu-a5/main/img/03-batch-indices.png\">\n",
        "\n",
        "We will later concatenate all the 1D arrays along the first dimension, just as we will do with all the $X^{(i)}$.\n",
        "\n",
        "Define a function `prepare_graphs_batch()` that takes as input a dataset (e.g. `train_dataset`), and does the following\n",
        "\n",
        "- Create four empty lists:\n",
        "  - `adj_matrices`\n",
        "  - `feature_matrices`\n",
        "  - `batch_indices`\n",
        "  - `labels`\n",
        "- Iterate over the input dataset, getting one graph at a time. At each step, use your function from Question 13 to append the adjacency matrix to `adj_matrices`, append the matrix of input features to `feature_matrices`, create the array of batch indices (as explained above) and append it to `batch_indices`, and append the label of the graph to `labels`. **Make sure to convert the label to float**.\n",
        "- Once the loop is over, use `scipy.sparse.block_diag()` to build the block diagonal matrix $\\hat{A}_B$. Convert it to the COO format, and then use your answer to Question 6 to turn it into a sparse PyTorch tensor.\n",
        "- Use `torch.cat()` to concatenate the tensors in `feature_matrices` along the first dimension. Do this also for `batch_indices` and `labels`.\n",
        "- Return the 4 tensors computed in the previous two items."
      ]
    },
    {
      "cell_type": "code",
      "execution_count": 8,
      "metadata": {
        "id": "SsQ0-JjSqFgD"
      },
      "outputs": [],
      "source": [
        "# Your answer here\n",
        "import torch\n",
        "import numpy as np\n",
        "from scipy.sparse import block_diag\n",
        "\n",
        "def prepare_graphs_batch(dataset):\n",
        "    adj_matrices = []\n",
        "    feature_matrices = []\n",
        "    batch_indices = []\n",
        "    labels = []\n",
        "\n",
        "    for i, data in enumerate(dataset):\n",
        "        # Generate the normalized adjacency matrix and append it\n",
        "        a_norm = get_a_norm(data)\n",
        "        adj_matrices.append(a_norm)\n",
        "\n",
        "        # Append the matrix of input features\n",
        "        feature_matrices.append(data.x.clone().detach())\n",
        "\n",
        "        # Create the batch indices and append it\n",
        "        batch_indices.append(torch.full((data.num_nodes,), i))\n",
        "\n",
        "        # Append the label of the graph\n",
        "        labels.append(data.y.to(dtype=torch.float).clone().detach())\n",
        "\n",
        "    # Build the block diagonal matrix hat{A}_B\n",
        "    block = block_diag(adj_matrices).tocoo() #convert it to COO format\n",
        "    # Use the code from question 6\n",
        "    indices = np.vstack((block.row, block.col))\n",
        "    indices = torch.from_numpy(indices).type(torch.int64)\n",
        "    values = block.data # directly use the data from the COO sparse matrix\n",
        "    values = torch.from_numpy(values).type(torch.float)\n",
        "    block_tensor = torch.sparse_coo_tensor(indices=indices, values=values, size=block.shape)\n",
        "\n",
        "    # Concatenate the tensors along the first dimension\n",
        "    feature_matrices_tensor = torch.cat(feature_matrices, dim=0)\n",
        "    batch_indices_tensor = torch.cat(batch_indices, dim=0)\n",
        "    labels_tensor = torch.cat(labels, dim=0)\n",
        "\n",
        "    # return the 4 tensors\n",
        "    return block_tensor, feature_matrices_tensor, batch_indices_tensor, labels_tensor"
      ]
    },
    {
      "cell_type": "markdown",
      "metadata": {
        "id": "i73P_EU0MSPX"
      },
      "source": [
        "Once your answer for the previous question is ready, you can run the next cell to prepare all the required information, for the train, validation, and test splits."
      ]
    },
    {
      "cell_type": "code",
      "execution_count": 9,
      "metadata": {
        "id": "Iol5FxJGMmAU"
      },
      "outputs": [],
      "source": [
        "train_a_norm, train_features, train_batch_idx, train_labels = prepare_graphs_batch(train_dataset)\n",
        "valid_a_norm, valid_features, valid_batch_idx, valid_labels = prepare_graphs_batch(valid_dataset)\n",
        "test_a_norm, test_features, test_batch_idx, test_labels = prepare_graphs_batch(test_dataset)"
      ]
    },
    {
      "cell_type": "markdown",
      "metadata": {
        "id": "R6q-JU87NClh"
      },
      "source": [
        "### GCNs for graph classification\n",
        "\n",
        "We now have all the ingredients to pass a batch of graphs to a GCN. However, for each graph in the batch, the output $Z^{(i)}$ contains one row for each node in the graph. If the goal is to do classification at the graph level, we have to *pool* these vectors to then compute the required logits for classification.\n",
        "\n",
        "This operation is similar as how pooling works in a CNN. We could consider taking the mean of the vectors, the sum, or use max-pooling. The difference with respect to CNNs is that in our case, we have a batch of graphs, each potentially with a different number of nodes.\n",
        "\n",
        "To implement this specific pooling, we can use the scatter operation in the `torch_scatter` library, which comes when installing PyG. We will use it, together with the tensor of batch indices from the previous two questions, to pool the outputs of the GCN for each graph, into a single vector:\n",
        "\n",
        "<img src=\"https://raw.githubusercontent.com/dfdazac/dlvu-a5/main/img/04-scatter.png\">\n",
        "\n",
        "You can check more details in the [documentation](https://pytorch-scatter.readthedocs.io/en/latest/functions/scatter.html)."
      ]
    },
    {
      "cell_type": "markdown",
      "metadata": {
        "id": "QY87DX1uRhnY"
      },
      "source": [
        "#### Question 15 (1.0 pt)\n",
        "\n",
        "Implement a `GraphClassifier` module using PyTorch.\n",
        "\n",
        "- The constructor should take as arguments the number of input features, the hidden dimension, and the number of classes.\n",
        "- The model should contain a instance of the `GCN` module (as you implemented it in Question 8). Use the same value for the hidden dimension and the number of output features (recall that your `GCN` module from Question 8 has two GCN layers).\n",
        "- The model should also contain a `torch.nn.Linear` layer, with the hidden dimension as the input features, and the number of classes as the output.\n",
        "- The forward method receives the concatenated matrix of features, the sparse block diagonal adjacency matrix, and the batch indices (the latter is used when calling `scatter`).\n",
        "- Use the following architecture in the forward pass:\n",
        "  - GCN $\\to$ ReLU $\\to$ scatter (max) $\\to$ Linear.\n",
        "\n",
        "The output of the forward should be a 1D tensor (you might need to call `squeeze` to get rid of extra dimensions) containing the logits for all graphs in the batch, for the binary classification task."
      ]
    },
    {
      "cell_type": "code",
      "source": [
        "# Your answer here\n",
        "import torch.nn as nn\n",
        "import torch.nn.functional as F\n",
        "from torch_scatter import scatter_max\n",
        "\n",
        "class GraphClassifier(nn.Module):\n",
        "    def __init__(self, num_input_features, hidden_dim, num_classes):\n",
        "        super(GraphClassifier, self).__init__()\n",
        "        self.gcn = GCN(num_input_features, hidden_dim, hidden_dim)\n",
        "        self.linear = nn.Linear(hidden_dim, num_classes)\n",
        "    def forward(self, feature_matrices, block_diag, batch_indices):\n",
        "        Z = self.gcn(feature_matrices, block_diag)  # GCN\n",
        "        Z = F.relu(Z)                               # ReLU\n",
        "        Z, _ = scatter_max(Z, batch_indices, dim=0) # Scatter (max)\n",
        "        output = self.linear(Z)                     # Linear\n",
        "        # Get rid of extra dimensions\n",
        "        return torch.squeeze(output)\n"
      ],
      "metadata": {
        "id": "b_O5zz6-thut"
      },
      "execution_count": 10,
      "outputs": []
    },
    {
      "cell_type": "markdown",
      "metadata": {
        "id": "C1PHy-_vTjgh"
      },
      "source": [
        "#### Question 16 (1.5 pt)\n",
        "\n",
        "Implement a training loop for the graph classifier. Use the data from Question 14 to train and evaluate the model.\n",
        "\n",
        "We encourage you to use a GPU in this section for faster training. Note that if you change the runtime at this point, you must re-execute several of the cells above, including the ones that install PyG.\n",
        "\n",
        "- Instantiate a classifier with 32 as the hidden dimension\n",
        "- Use Adam with a learning rate of 1e-3.\n",
        "- Use `torch.nn.BCEWithLogitsLoss` as the loss function.\n",
        "- Train for 5,000 epochs. Once training is done, plot the loss curve and the accuracy in the validation set. Then report the accuracy in the test set.\n",
        "\n",
        "**Note:** the logits from the output of the classifier come from a linear layer. To compute actual predictions for the calculation of the accuracy, pass the logits through `torch.sigmoid()`, and set the predicted values to 1 whenever they are greater than 0.5, and to 0 otherwise.\n",
        "\n",
        "You should get an accuracy equal to or higher than 70% in the validation and test sets. Can you beat the [state-of-the-art](https://paperswithcode.com/sota/graph-classification-on-proteins)? Feel free to modify your architecture and experiment with it.\n",
        "\n",
        "Discuss what you observe during training and your results."
      ]
    },
    {
      "cell_type": "code",
      "execution_count": 22,
      "metadata": {
        "id": "9DbGAs8W2Xja",
        "colab": {
          "base_uri": "https://localhost:8080/",
          "height": 932
        },
        "outputId": "bd643482-f318-4e10-b210-99903dee7b78"
      },
      "outputs": [
        {
          "output_type": "stream",
          "name": "stdout",
          "text": [
            "Epoch 200/5000  Train loss: 0.6505, Validation accuracy: 0.6667\n",
            "Epoch 400/5000  Train loss: 0.5722, Validation accuracy: 0.6937\n",
            "Epoch 600/5000  Train loss: 0.5242, Validation accuracy: 0.7748\n",
            "Epoch 800/5000  Train loss: 0.5019, Validation accuracy: 0.8108\n",
            "Epoch 1000/5000  Train loss: 0.4870, Validation accuracy: 0.8288\n",
            "Epoch 1200/5000  Train loss: 0.4787, Validation accuracy: 0.8198\n",
            "Epoch 1400/5000  Train loss: 0.4709, Validation accuracy: 0.8018\n",
            "Epoch 1600/5000  Train loss: 0.4653, Validation accuracy: 0.8018\n",
            "Epoch 1800/5000  Train loss: 0.4597, Validation accuracy: 0.8198\n",
            "Epoch 2000/5000  Train loss: 0.4540, Validation accuracy: 0.8378\n",
            "Epoch 2200/5000  Train loss: 0.4495, Validation accuracy: 0.8288\n",
            "Epoch 2400/5000  Train loss: 0.4458, Validation accuracy: 0.8288\n",
            "Epoch 2600/5000  Train loss: 0.4431, Validation accuracy: 0.8288\n",
            "Epoch 2800/5000  Train loss: 0.4408, Validation accuracy: 0.8288\n",
            "Epoch 3000/5000  Train loss: 0.4386, Validation accuracy: 0.8198\n",
            "Epoch 3200/5000  Train loss: 0.4364, Validation accuracy: 0.8198\n",
            "Epoch 3400/5000  Train loss: 0.4316, Validation accuracy: 0.8378\n",
            "Epoch 3600/5000  Train loss: 0.4286, Validation accuracy: 0.8559\n",
            "Epoch 3800/5000  Train loss: 0.4266, Validation accuracy: 0.8559\n",
            "Epoch 4000/5000  Train loss: 0.4249, Validation accuracy: 0.8559\n",
            "Epoch 4200/5000  Train loss: 0.4235, Validation accuracy: 0.8559\n",
            "Epoch 4400/5000  Train loss: 0.4222, Validation accuracy: 0.8559\n",
            "Epoch 4600/5000  Train loss: 0.4207, Validation accuracy: 0.8649\n",
            "Epoch 4800/5000  Train loss: 0.4188, Validation accuracy: 0.8829\n",
            "Epoch 5000/5000  Train loss: 0.4166, Validation accuracy: 0.8739\n"
          ]
        },
        {
          "output_type": "display_data",
          "data": {
            "text/plain": [
              "<Figure size 1200x600 with 2 Axes>"
            ],
            "image/png": "[encoded data removed]"
          },
          "metadata": {}
        },
        {
          "output_type": "stream",
          "name": "stdout",
          "text": [
            "Final Training Loss: 0.4166\n",
            "Final Validation Accuracy: 0.8739\n",
            "Test Accuracy: 0.7054\n"
          ]
        }
      ],
      "source": [
        "# If your runtime is GPU-enabled, use .to(device) to move the model\n",
        "# and all the relevant tensors to the GPU. You have to move tensors back to CPU\n",
        "# when computing metrics like accuracy, using .cpu().\n",
        "device = torch.device('cuda') if torch.cuda.is_available() else 'cpu'\n",
        "\n",
        "# Your answer here\n",
        "import torch.optim as optim\n",
        "import matplotlib.pyplot as plt\n",
        "\n",
        "# Instantiate a classifier\n",
        "classifier = GraphClassifier(num_input_features=train_features.size(1), hidden_dim=32, num_classes=1)\n",
        "\n",
        "# Move the model and data to GPU if available\n",
        "classifier.to(device)\n",
        "train_a_norm = train_a_norm.to(device)\n",
        "train_features = train_features.to(device)\n",
        "train_batch_idx = train_batch_idx.to(device)\n",
        "train_labels = train_labels.to(device)\n",
        "valid_a_norm = valid_a_norm.to(device)\n",
        "valid_features = valid_features.to(device)\n",
        "valid_batch_idx = valid_batch_idx.to(device)\n",
        "valid_labels = valid_labels.to(device)\n",
        "test_a_norm = test_a_norm.to(device)\n",
        "test_features = test_features.to(device)\n",
        "test_batch_idx = test_batch_idx.to(device)\n",
        "test_labels = test_labels.to(device)\n",
        "\n",
        "# Set optimizer & loss function\n",
        "optimizer = torch.optim.Adam(classifier.parameters(), lr=1e-3)\n",
        "criteria = torch.nn.BCEWithLogitsLoss()\n",
        "\n",
        "# Create lists to store training losses, validation accuracies\n",
        "train_losses = []\n",
        "val_accuracies = []\n",
        "\n",
        "for epoch in range(5000):\n",
        "    classifier.train()\n",
        "    optimizer.zero_grad()\n",
        "\n",
        "    # Forward pass\n",
        "    output = classifier(train_features, train_a_norm, train_batch_idx)\n",
        "    train_loss = criteria(output, train_labels)\n",
        "    train_losses.append(train_loss.item()) # Append training loss\n",
        "\n",
        "    # Backward pass\n",
        "    train_loss.backward()\n",
        "    optimizer.step()\n",
        "\n",
        "    # Evaluate Validation dataset\n",
        "    classifier.eval()\n",
        "    with torch.no_grad():\n",
        "        valid_output = classifier(valid_features, valid_a_norm, valid_batch_idx)\n",
        "        valid_predicted_labels = torch.sigmoid(valid_output) > 0.5\n",
        "        valid_correct = (valid_predicted_labels == valid_labels.byte()).sum().item()\n",
        "        valid_accuracy = valid_correct / valid_labels.size(0)\n",
        "\n",
        "        # Append validation accuracy\n",
        "        val_accuracies.append(valid_accuracy)\n",
        "\n",
        "    # Print in every 200 epochs\n",
        "    if (epoch +1) % 200 == 0:\n",
        "        print(f\"Epoch {epoch+1}/{5000}  Train loss: {train_loss.item():.4f}, Validation accuracy: {valid_accuracy:.4f}\")\n",
        "\n",
        "# Plot training loss\n",
        "plt.figure(figsize=(12, 6))\n",
        "plt.subplot(1, 2, 1)\n",
        "plt.plot(train_losses)\n",
        "plt.xlabel(\"Epoch\")\n",
        "plt.ylabel(\"Training Loss\")\n",
        "plt.title(\"Training Loss Plot\")\n",
        "plt.grid(True)\n",
        "\n",
        "# Plot the validation accuracy\n",
        "plt.subplot(1, 2, 2)\n",
        "plt.plot(val_accuracies)\n",
        "plt.xlabel(\"Epoch\")\n",
        "plt.ylabel(\"Validation Accuracy\")\n",
        "plt.title(\"Validation Accuracy Plot\")\n",
        "plt.grid(True)\n",
        "\n",
        "plt.tight_layout()\n",
        "plt.show()\n",
        "\n",
        "# Evaluate test dataset\n",
        "classifier.eval()\n",
        "with torch.no_grad():\n",
        "    test_output = classifier(test_features, test_a_norm, test_batch_idx)\n",
        "    test_predicted_labels = torch.sigmoid(test_output) > 0.5\n",
        "    test_correct = (test_predicted_labels == test_labels.byte()).sum().item()\n",
        "    test_accuracy = test_correct / test_labels.size(0)\n",
        "\n",
        "print(f\"Final Training Loss: {train_losses[-1]:.4f}\")\n",
        "print(f\"Final Validation Accuracy: {val_accuracies[-1]:.4f}\")\n",
        "print(f\"Test Accuracy: {test_accuracy:.4f}\")"
      ]
    },
    {
      "cell_type": "markdown",
      "source": [
        "*Discuss what you observed during training and your result*\n",
        "\n",
        "- **Training loss**: The training loss continuously decreased. At the 200th epoch, it was 0.6505 and it decreased to 0.4166 at the last epoch. It implies that model is understanding and learning the pattern of the data better as the epochs processed.\n",
        "- **Validation accuracy**: The validation accuracy shows increasing trend. At the 200th epoch, it was 0.6667 and it increased to 0.8739 at the last epoch. But some plateaus epochs are captured and there are fluctuation in the graph.  It indicates that the classifier model is generalizing on the validation data, however, it implies overfitting. Early stopping or weight decay could ease this problem.\n",
        "- **Test accuracy**: The test accuracy is 0.7054 at the last 5000th epoch, it retains the performance of the data with generalizing but a bit decreased compare to the validation set (0.8739). It could be becuase of the overfitting in the validation set or the different distribution of the test and validation set.\n"
      ],
      "metadata": {
        "id": "7ubV9znA-1hW"
      }
    },
    {
      "cell_type": "markdown",
      "metadata": {
        "id": "MvmAfDNMcnKD"
      },
      "source": [
        "## The end\n",
        "\n",
        "If you have made it all the way here successfully, congratulations! 🎉\n",
        "\n",
        "You have implemented your own GCN and tested it on a node classification task, and a more challenging classification task over multiple graphs.\n",
        "\n",
        "We hope you can use this knowledge to apply GCNs not only to the tasks described here, but other applications where data can be modeled as a graph.\n",
        "\n",
        "If you are interested in applying graph neural networks to larger graphs, or try newer architectures, you can dive deeper into [PyTorch Geometric](https://pytorch-geometric.readthedocs.io/en/latest/), a library with fast implementations for a wide range of architectures. It also comes with custom code that takes care of aspects that you dealt with manually for this assignment, like a more efficient implementation of the adjacency matrix multiplication via message-passing methods, and Data Loaders that relieve you from having to build block diagonal sparse matrices.\n",
        "\n",
        "You can also check the [Deep Graph Library](https://docs.dgl.ai/) another powerful library for deep learning on graphs which also integrates with other backends like TensorFlow."
      ]
    },
    {
      "cell_type": "markdown",
      "metadata": {
        "id": "l7QhyAMms8-L"
      },
      "source": [
        "# Grading (10pt)"
      ]
    },
    {
      "cell_type": "markdown",
      "metadata": {
        "id": "juIdxXhos-mV"
      },
      "source": [
        "- Question 1: 0.25pt\n",
        "- Question 2: 0.25pt\n",
        "- Question 3: 0.5pt\n",
        "- Question 4: 0.25pt\n",
        "- Question 5: 0.5pt\n",
        "- Question 6: 0.5pt\n",
        "- Question 7: 0.5pt\n",
        "- Question 8: 0.5pt\n",
        "- Question 9: 1.5pt\n",
        "- Question 10: 0.5pt\n",
        "- Question 11: 0.25pt\n",
        "- Question 12: 0.5pt\n",
        "- Question 13: 0.5pt\n",
        "- Question 14: 1pt\n",
        "- Question 15: 1pt\n",
        "- Question 16: 1.5pt"
      ]
    }
  ],
  "metadata": {
    "accelerator": "GPU",
    "colab": {
      "provenance": [],
      "gpuType": "T4"
    },
    "kernelspec": {
      "display_name": "Python 3",
      "name": "python3"
    }
  },
  "nbformat": 4,
  "nbformat_minor": 0
}